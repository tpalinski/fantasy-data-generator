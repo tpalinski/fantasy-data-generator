{
 "cells": [
  {
   "cell_type": "code",
   "execution_count": 43,
   "metadata": {
    "collapsed": true
   },
   "outputs": [],
   "source": [
    "import pyodbc\n",
    "server = 'LAPTOP-G2C53J66'\n",
    "database = 'arcane_vault'\n",
    "username = 'admin'\n",
    "password = 'admin'\n",
    "\n",
    "conn = pyodbc.connect(\n",
    "    'DRIVER={SQL Server};' +\n",
    "    'SERVER='+ server + ';' +\n",
    "    'DATABASE=' + database + ';' +\n",
    "    'UID=' + username + ';' +\n",
    "    'PWD=' + password)\n",
    "\n",
    "cursor = conn.cursor()\n",
    "\n",
    "adventurers_path = 'D:\\\\Projekty\\\\Hurtownie Danych\\\\fantasy-data-generator\\\\data\\\\adventurers.csv'\n",
    "\n",
    "facilities_path = 'D:\\\\Projekty\\\\Hurtownie Danych\\\\fantasy-data-generator\\\\data\\\\facilities.csv'\n",
    "\n",
    "civilizations_path = 'D:\\\\Projekty\\\\Hurtownie Danych\\\\fantasy-data-generator\\\\data\\\\civilizations.csv'\n",
    "\n",
    "destinations_path = 'D:\\\\Projekty\\\\Hurtownie Danych\\\\fantasy-data-generator\\\\data\\\\destinations.csv'\n",
    "\n",
    "adventures_path = 'D:\\\\Projekty\\\\Hurtownie Danych\\\\fantasy-data-generator\\\\data\\\\adventures.csv'\n",
    "\n",
    "artifacts_path = 'D:\\\\Projekty\\\\Hurtownie Danych\\\\fantasy-data-generator\\\\data\\\\artifacts.csv'\n",
    "\n",
    "participations_path = 'D:\\\\Projekty\\\\Hurtownie Danych\\\\fantasy-data-generator\\\\data\\\\participations.csv'"
   ]
  },
  {
   "cell_type": "code",
   "execution_count": 44,
   "outputs": [],
   "source": [
    "adventurers_insert_query = f'''\n",
    "BULK INSERT adventurers\n",
    "FROM '{adventurers_path}'\n",
    "WITH (\n",
    "    FIRSTROW=2,\n",
    "    FIELDTERMINATOR=',',\n",
    "    ROWTERMINATOR='0x0a'\n",
    ")\n",
    "'''\n",
    "\n",
    "cursor.execute(adventurers_insert_query)\n",
    "conn.commit()"
   ],
   "metadata": {
    "collapsed": false
   }
  },
  {
   "cell_type": "code",
   "execution_count": 45,
   "outputs": [],
   "source": [
    "facilities_insert_query = f'''\n",
    "BULK INSERT facilities\n",
    "FROM '{facilities_path}'\n",
    "WITH (\n",
    "    FIRSTROW=2,\n",
    "    FIELDTERMINATOR=',',\n",
    "    ROWTERMINATOR='0x0a'\n",
    ")\n",
    "'''\n",
    "\n",
    "cursor.execute(facilities_insert_query)\n",
    "conn.commit()"
   ],
   "metadata": {
    "collapsed": false
   }
  },
  {
   "cell_type": "code",
   "execution_count": 46,
   "outputs": [],
   "source": [
    "civilizations_insert_query = f'''\n",
    "BULK INSERT civilizations\n",
    "FROM '{civilizations_path}'\n",
    "WITH (\n",
    "    FIRSTROW=2,\n",
    "    FIELDTERMINATOR=',',\n",
    "    ROWTERMINATOR='0x0a'\n",
    ")\n",
    "'''\n",
    "\n",
    "cursor.execute(civilizations_insert_query)\n",
    "conn.commit()"
   ],
   "metadata": {
    "collapsed": false
   }
  },
  {
   "cell_type": "code",
   "execution_count": 47,
   "outputs": [
    {
     "ename": "IntegrityError",
     "evalue": "('23000', \"[23000] [Microsoft][ODBC SQL Server Driver][SQL Server]Violation of PRIMARY KEY constraint 'PK__particip__675C256D1E9C8D37'. Cannot insert duplicate key in object 'dbo.participations'. The duplicate key value is (29046, 43940). (2627) (SQLExecDirectW); [23000] [Microsoft][ODBC SQL Server Driver][SQL Server]The statement has been terminated. (3621)\")",
     "output_type": "error",
     "traceback": [
      "\u001B[1;31m---------------------------------------------------------------------------\u001B[0m",
      "\u001B[1;31mIntegrityError\u001B[0m                            Traceback (most recent call last)",
      "Cell \u001B[1;32mIn[47], line 11\u001B[0m\n\u001B[0;32m      1\u001B[0m participations_insert_query \u001B[38;5;241m=\u001B[39m \u001B[38;5;124mf\u001B[39m\u001B[38;5;124m'''\u001B[39m\n\u001B[0;32m      2\u001B[0m \u001B[38;5;124mBULK INSERT participations\u001B[39m\n\u001B[0;32m      3\u001B[0m \u001B[38;5;124mFROM \u001B[39m\u001B[38;5;124m'\u001B[39m\u001B[38;5;132;01m{\u001B[39;00mparticipations_path\u001B[38;5;132;01m}\u001B[39;00m\u001B[38;5;124m'\u001B[39m\n\u001B[1;32m   (...)\u001B[0m\n\u001B[0;32m      8\u001B[0m \u001B[38;5;124m)\u001B[39m\n\u001B[0;32m      9\u001B[0m \u001B[38;5;124m'''\u001B[39m\n\u001B[1;32m---> 11\u001B[0m \u001B[43mcursor\u001B[49m\u001B[38;5;241;43m.\u001B[39;49m\u001B[43mexecute\u001B[49m\u001B[43m(\u001B[49m\u001B[43mparticipations_insert_query\u001B[49m\u001B[43m)\u001B[49m\n\u001B[0;32m     12\u001B[0m conn\u001B[38;5;241m.\u001B[39mcommit()\n",
      "\u001B[1;31mIntegrityError\u001B[0m: ('23000', \"[23000] [Microsoft][ODBC SQL Server Driver][SQL Server]Violation of PRIMARY KEY constraint 'PK__particip__675C256D1E9C8D37'. Cannot insert duplicate key in object 'dbo.participations'. The duplicate key value is (29046, 43940). (2627) (SQLExecDirectW); [23000] [Microsoft][ODBC SQL Server Driver][SQL Server]The statement has been terminated. (3621)\")"
     ]
    }
   ],
   "source": [
    "participations_insert_query = f'''\n",
    "BULK INSERT participations\n",
    "FROM '{participations_path}'\n",
    "WITH (\n",
    "    FIRSTROW=2,\n",
    "    FIELDTERMINATOR=',',\n",
    "    ROWTERMINATOR='0x0a'\n",
    ")\n",
    "'''\n",
    "\n",
    "cursor.execute(participations_insert_query)\n",
    "conn.commit()"
   ],
   "metadata": {
    "collapsed": false
   }
  },
  {
   "cell_type": "code",
   "execution_count": null,
   "outputs": [],
   "source": [
    "destinations_insert_query = f'''\n",
    "BULK INSERT destinations\n",
    "FROM '{destinations_path}'\n",
    "WITH (\n",
    "    FIRSTROW=2,\n",
    "    FIELDTERMINATOR=',',\n",
    "    ROWTERMINATOR='0x0a'\n",
    ")\n",
    "'''\n",
    "\n",
    "cursor.execute(destinations_insert_query)\n",
    "conn.commit()"
   ],
   "metadata": {
    "collapsed": false
   }
  },
  {
   "cell_type": "code",
   "execution_count": null,
   "outputs": [],
   "source": [
    "adventures_insert_query = f'''\n",
    "BULK INSERT adventures\n",
    "FROM '{adventures_path}'\n",
    "WITH (\n",
    "    FIRSTROW=2,\n",
    "    FIELDTERMINATOR=',',\n",
    "    ROWTERMINATOR='0x0a'\n",
    ")\n",
    "'''\n",
    "\n",
    "cursor.execute(adventures_insert_query)\n",
    "conn.commit()"
   ],
   "metadata": {
    "collapsed": false
   }
  },
  {
   "cell_type": "code",
   "execution_count": null,
   "outputs": [],
   "source": [
    "conn.close()"
   ],
   "metadata": {
    "collapsed": false
   }
  }
 ],
 "metadata": {
  "kernelspec": {
   "display_name": "Python 3",
   "language": "python",
   "name": "python3"
  },
  "language_info": {
   "codemirror_mode": {
    "name": "ipython",
    "version": 2
   },
   "file_extension": ".py",
   "mimetype": "text/x-python",
   "name": "python",
   "nbconvert_exporter": "python",
   "pygments_lexer": "ipython2",
   "version": "2.7.6"
  }
 },
 "nbformat": 4,
 "nbformat_minor": 0
}
