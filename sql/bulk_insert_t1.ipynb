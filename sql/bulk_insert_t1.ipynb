{
 "cells": [
  {
   "cell_type": "code",
   "execution_count": 38,
   "metadata": {
    "collapsed": true
   },
   "outputs": [],
   "source": [
    "import pyodbc\n",
    "server = 'LAPTOP-G2C53J66'\n",
    "database = 'arcane_vault'\n",
    "username = 'admin'\n",
    "password = 'admin'\n",
    "\n",
    "conn = pyodbc.connect(\n",
    "    'DRIVER={SQL Server};' +\n",
    "    'SERVER='+ server + ';' +\n",
    "    'DATABASE=' + database + ';' +\n",
    "    'UID=' + username + ';' +\n",
    "    'PWD=' + password)\n",
    "\n",
    "cursor = conn.cursor()\n",
    "\n",
    "adventurers_path = 'D:\\\\Projekty\\\\Hurtownie Danych\\\\fantasy-data-generator\\\\data\\\\adventurers.csv'\n",
    "\n",
    "facilities_path = 'D:\\\\Projekty\\\\Hurtownie Danych\\\\fantasy-data-generator\\\\data\\\\facilities.csv'\n",
    "\n",
    "civilizations_path = 'D:\\\\Projekty\\\\Hurtownie Danych\\\\fantasy-data-generator\\\\data\\\\civilizations.csv'\n",
    "\n",
    "destinations_path = 'D:\\\\Projekty\\\\Hurtownie Danych\\\\fantasy-data-generator\\\\data\\\\destinations.csv'\n",
    "\n",
    "adventures_path = 'D:\\\\Projekty\\\\Hurtownie Danych\\\\fantasy-data-generator\\\\data\\\\adventures.csv'\n",
    "\n",
    "artifacts_path = 'D:\\\\Projekty\\\\Hurtownie Danych\\\\fantasy-data-generator\\\\data\\\\artifacts.csv'\n",
    "\n",
    "participations_path = 'D:\\\\Projekty\\\\Hurtownie Danych\\\\fantasy-data-generator\\\\data\\\\participations.csv'"
   ]
  },
  {
   "cell_type": "code",
   "execution_count": 39,
   "outputs": [],
   "source": [
    "adventurers_insert_query = f'''\n",
    "BULK INSERT adventurers\n",
    "FROM '{adventurers_path}'\n",
    "WITH (\n",
    "    FIRSTROW=2,\n",
    "    FIELDTERMINATOR=',',\n",
    "    ROWTERMINATOR='0x0a'\n",
    ")\n",
    "'''\n",
    "\n",
    "cursor.execute(adventurers_insert_query)\n",
    "conn.commit()"
   ],
   "metadata": {
    "collapsed": false
   }
  },
  {
   "cell_type": "code",
   "execution_count": 40,
   "outputs": [],
   "source": [
    "facilities_insert_query = f'''\n",
    "BULK INSERT facilities\n",
    "FROM '{facilities_path}'\n",
    "WITH (\n",
    "    FIRSTROW=2,\n",
    "    FIELDTERMINATOR=',',\n",
    "    ROWTERMINATOR='0x0a'\n",
    ")\n",
    "'''\n",
    "\n",
    "cursor.execute(facilities_insert_query)\n",
    "conn.commit()"
   ],
   "metadata": {
    "collapsed": false
   }
  },
  {
   "cell_type": "code",
   "execution_count": 41,
   "outputs": [],
   "source": [
    "civilizations_insert_query = f'''\n",
    "BULK INSERT civilizations\n",
    "FROM '{civilizations_path}'\n",
    "WITH (\n",
    "    FIRSTROW=2,\n",
    "    FIELDTERMINATOR=',',\n",
    "    ROWTERMINATOR='0x0a'\n",
    ")\n",
    "'''\n",
    "\n",
    "cursor.execute(civilizations_insert_query)\n",
    "conn.commit()"
   ],
   "metadata": {
    "collapsed": false
   }
  },
  {
   "cell_type": "code",
   "execution_count": 42,
   "outputs": [],
   "source": [
    "artifacts_insert_query = f'''\n",
    "BULK INSERT artifacts\n",
    "FROM '{artifacts_path}'\n",
    "WITH (\n",
    "    FIRSTROW=2,\n",
    "    FIELDTERMINATOR=',',\n",
    "    ROWTERMINATOR='0x0a'\n",
    ")\n",
    "'''\n",
    "\n",
    "cursor.execute(artifacts_insert_query)\n",
    "conn.commit()"
   ],
   "metadata": {
    "collapsed": false
   }
  },
  {
   "cell_type": "code",
   "execution_count": 43,
   "outputs": [],
   "source": [
    "destinations_insert_query = f'''\n",
    "BULK INSERT destinations\n",
    "FROM '{destinations_path}'\n",
    "WITH (\n",
    "    FIRSTROW=2,\n",
    "    FIELDTERMINATOR=',',\n",
    "    ROWTERMINATOR='0x0a'\n",
    ")\n",
    "'''\n",
    "\n",
    "cursor.execute(destinations_insert_query)\n",
    "conn.commit()"
   ],
   "metadata": {
    "collapsed": false
   }
  },
  {
   "cell_type": "code",
   "execution_count": 44,
   "outputs": [],
   "source": [
    "adventures_insert_query = f'''\n",
    "BULK INSERT adventures\n",
    "FROM '{adventures_path}'\n",
    "WITH (\n",
    "    FIRSTROW=2,\n",
    "    FIELDTERMINATOR=',',\n",
    "    ROWTERMINATOR='0x0a'\n",
    ")\n",
    "'''\n",
    "\n",
    "cursor.execute(adventures_insert_query)\n",
    "conn.commit()"
   ],
   "metadata": {
    "collapsed": false
   }
  },
  {
   "cell_type": "code",
   "execution_count": 45,
   "outputs": [],
   "source": [
    "participations_insert_query = f'''\n",
    "BULK INSERT participations\n",
    "FROM '{participations_path}'\n",
    "WITH (\n",
    "    FIRSTROW=2,\n",
    "    FIELDTERMINATOR=',',\n",
    "    ROWTERMINATOR='0x0a'\n",
    ")\n",
    "'''\n",
    "\n",
    "cursor.execute(participations_insert_query)\n",
    "conn.commit()"
   ],
   "metadata": {
    "collapsed": false
   }
  },
  {
   "cell_type": "code",
   "execution_count": 46,
   "outputs": [],
   "source": [
    "conn.close()"
   ],
   "metadata": {
    "collapsed": false
   }
  }
 ],
 "metadata": {
  "kernelspec": {
   "display_name": "Python 3",
   "language": "python",
   "name": "python3"
  },
  "language_info": {
   "codemirror_mode": {
    "name": "ipython",
    "version": 2
   },
   "file_extension": ".py",
   "mimetype": "text/x-python",
   "name": "python",
   "nbconvert_exporter": "python",
   "pygments_lexer": "ipython2",
   "version": "2.7.6"
  }
 },
 "nbformat": 4,
 "nbformat_minor": 0
}
