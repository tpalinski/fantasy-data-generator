{
 "cells": [
  {
   "cell_type": "code",
   "execution_count": 71,
   "metadata": {
    "collapsed": false
   },
   "outputs": [],
   "source": [
    "### import ###\n",
    "import pandas as pd\n",
    "import numpy as np\n",
    "import random\n",
    "import datetime"
   ]
  },
  {
   "cell_type": "code",
   "execution_count": 72,
   "metadata": {
    "collapsed": false
   },
   "outputs": [],
   "source": [
    "### constants ###\n",
    "seed = 111\n",
    "random.seed(seed)\n",
    "\n",
    "latest_date_of_employment = datetime.datetime(2000, 1, 1)\n",
    "\n",
    "earliest_date_of_employment = datetime.datetime(1985, 1, 1)\n",
    "\n",
    "time_difference = (latest_date_of_employment - earliest_date_of_employment).days\n",
    "\n",
    "min_age_at_employment = 10 * 365 # 10 years in days\n",
    "\n",
    "max_age_at_employment = 30 * 365 # 30 years in days\n",
    "\n",
    "\n",
    "adventurers_filepath = '../data/adventurers.csv'\n",
    "\n",
    "adventurers_t2_filepath = '../data/adventurers_t2.csv'\n",
    "\n",
    "arcane_evaluation_output_filepath = '../data/arcane_evaluation.csv'\n",
    "\n",
    "arcane_evaluation_t2_output_filepath = '../data/arcane_evaluation_t2.csv'\n",
    "\n",
    "classes = ['barbarian', 'bard', 'cleric', 'druid', 'fighter', 'monk', 'paladin',\n",
    "           'ranger', 'rogue', 'sorcerer', 'warlock', 'wizard']\n",
    "\n",
    "religions = ['None', 'Auril', 'Azuth', 'Bane', 'Beshaba', 'Bhaal', 'Chauntea', 'Cyric', 'Deneir',\n",
    "             'Eldath', 'Garagos', 'Gond', 'Helm', 'Ilmater', 'Kelemvor', 'Lathander', 'Leira',\n",
    "             'Lliira', 'Loviatar', 'Malar', 'Mask', 'Mielikki', 'Myrkul', 'Mystra', 'Oghma',\n",
    "             'Savras', 'Selune', 'Shar', 'Silvanus', 'Sune', 'Talona', 'Talos', 'Tempus',\n",
    "             'Torm', 'Tymora', 'Tyr', 'Umberlee', 'Waukeen']\n",
    "\n",
    "previous_employments = ['None', 'Blacksmith', 'Farmer', 'Musician', 'Merchant', 'Soldier', 'Herbalist',\n",
    "                        'Alchemist', 'Miner', 'Hunter', 'Artisan', 'Tavern Keeper', 'Fisherman',\n",
    "                        'priest', 'thief', 'Academic Scholar', 'Apothecary', 'Ship Capitan', 'Lumberjack',\n",
    "                        'Animal Trainer', 'Guard', 'Mercenary', 'Cook', 'Librarian']\n",
    "\n",
    "races = ['Dragonborn', 'Dwarf', 'Elf', 'Gnome', 'Half-elf', 'Halfling', 'Half-Orc', 'Human', 'Tiefling']"
   ]
  },
  {
   "cell_type": "code",
   "execution_count": 73,
   "metadata": {
    "collapsed": false
   },
   "outputs": [],
   "source": [
    "### functions ###\n",
    "\n",
    "def get_random_employment_date():\n",
    "    random_amount_of_days = random.randint(0, time_difference)\n",
    "    return earliest_date_of_employment + datetime.timedelta(days=random_amount_of_days)\n",
    "\n",
    "def get_random_date_of_birth(employment_date):\n",
    "    random_amount_of_days = random.randint(min_age_at_employment, max_age_at_employment)\n",
    "    return employment_date - datetime.timedelta(days=random_amount_of_days)"
   ]
  },
  {
   "cell_type": "code",
   "execution_count": 74,
   "metadata": {
    "collapsed": false
   },
   "outputs": [],
   "source": [
    "adventurers = pd.read_csv(adventurers_filepath)\n",
    "\n",
    "adventurers.insert(loc=3,\n",
    "                   column='race',\n",
    "                   value=[random.choice(races) for _ in range (adventurers.shape[0])])\n",
    "\n",
    "\n",
    "adventurers.insert(loc=5,\n",
    "                   column='class',\n",
    "                   value=[random.choice(classes) for _ in range (adventurers.shape[0])])\n",
    "\n",
    "adventurers.insert(loc=6,\n",
    "                   column='start_of_employment',\n",
    "                   value=[get_random_employment_date() for _ in range (adventurers.shape[0])])\n",
    "\n",
    "adventurers.insert(loc=7,\n",
    "                   column='end_of_employment',\n",
    "                   value=['' for _ in range (adventurers.shape[0])])\n",
    "\n",
    "adventurers.insert(loc=8,\n",
    "                   column='religion',\n",
    "                   value=[random.choice(religions) for _ in range (adventurers.shape[0])])\n",
    "\n",
    "adventurers.insert(loc=9,\n",
    "                   column='previous_employment',\n",
    "                   value=[random.choice(previous_employments) for _ in range (adventurers.shape[0])])\n",
    "\n",
    "adventurers.insert(loc=4,\n",
    "                   column='date_of_birth',\n",
    "                   value=[get_random_date_of_birth(adventurers.at[i, 'start_of_employment'])\n",
    "                          for i in range (adventurers.shape[0])])\n",
    "\n",
    "adventurers.to_csv(arcane_evaluation_output_filepath, index=False)"
   ]
  },
  {
   "cell_type": "code",
   "execution_count": 78,
   "metadata": {},
   "outputs": [],
   "source": [
    "# Generate new data for t2 adventurers\n",
    "adventurers_t2 = pd.read_csv(adventurers_t2_filepath)\n",
    "\n",
    "adventurers_t2 = adventurers_t2.iloc[len(adventurers):].reset_index(drop=True)\n",
    "\n",
    "adventurers_t2.insert(loc=3,\n",
    "                   column='race',\n",
    "                   value=[random.choice(races) for _ in range (adventurers_t2.shape[0])])\n",
    "\n",
    "\n",
    "adventurers_t2.insert(loc=5,\n",
    "                   column='class',\n",
    "                   value=[random.choice(classes) for _ in range (adventurers_t2.shape[0])])\n",
    "\n",
    "adventurers_t2.insert(loc=6,\n",
    "                   column='start_of_employment',\n",
    "                   value=[get_random_employment_date() for _ in range (adventurers_t2.shape[0])])\n",
    "\n",
    "adventurers_t2.insert(loc=7,\n",
    "                   column='end_of_employment',\n",
    "                   value=['' for _ in range (adventurers_t2.shape[0])])\n",
    "\n",
    "adventurers_t2.insert(loc=8,\n",
    "                   column='religion',\n",
    "                   value=[random.choice(religions) for _ in range (adventurers_t2.shape[0])])\n",
    "\n",
    "adventurers_t2.insert(loc=9,\n",
    "                   column='previous_employment',\n",
    "                   value=[random.choice(previous_employments) for _ in range (adventurers_t2.shape[0])])\n",
    "\n",
    "adventurers_t2.insert(loc=4,\n",
    "                   column='date_of_birth',\n",
    "                   value=[get_random_date_of_birth(adventurers_t2.at[i, 'start_of_employment'])\n",
    "                          for i in range (adventurers_t2.shape[0])])\n",
    "\n",
    "\n"
   ]
  },
  {
   "cell_type": "code",
   "execution_count": 80,
   "metadata": {},
   "outputs": [],
   "source": [
    "# Modify religion of some adventurers\n",
    "MODIFY_RELIGION_COUNT = 350\n",
    "\n",
    "for i in range(MODIFY_RELIGION_COUNT):\n",
    "    adventurers.at[i, 'religion']= random.choice(religions)"
   ]
  },
  {
   "cell_type": "code",
   "execution_count": 81,
   "metadata": {},
   "outputs": [
    {
     "name": "stdout",
     "output_type": "stream",
     "text": [
      "<bound method NDFrame.head of             id   name surname      race date_of_birth  level      class  \\\n",
      "0            0  Puryr  Fgigys     Gnome    1988-12-19     18   sorcerer   \n",
      "1            1  Pyzil  Xmekar  Halfling    1974-07-12     10    warlock   \n",
      "2            2  Kysif  Ccutid     Human    1985-12-03      4   sorcerer   \n",
      "3            3  Fipep  Sfomuh     Gnome    1961-03-19     19     cleric   \n",
      "4            4  Xalow  Mhoder  Half-Orc    1988-07-25      5     wizard   \n",
      "...        ...    ...     ...       ...           ...    ...        ...   \n",
      "200295  200295  Gihup  Gkateh  Halfling    1970-11-20     15       monk   \n",
      "200296  200296  Wajeb  Bruzij  Tiefling    1968-01-11      4     ranger   \n",
      "200297  200297  Haxob  Kzaseb       Elf    1971-10-25      7       monk   \n",
      "200298  200298  Gyxox  Hbyzev     Human    1974-12-30     17     wizard   \n",
      "200299  200299  Jipef  Vcigix     Dwarf    1965-07-12     18  barbarian   \n",
      "\n",
      "       start_of_employment end_of_employment   religion previous_employment  \n",
      "0               1999-05-10                          Tyr           Mercenary  \n",
      "1               1990-07-09                        Bhaal          Blacksmith  \n",
      "2               1997-11-13                       Talona                None  \n",
      "3               1989-04-04                       Savras          Blacksmith  \n",
      "4               1999-12-31                         Torm              Farmer  \n",
      "...                    ...               ...        ...                 ...  \n",
      "200295          1998-01-28                        Azuth           Fisherman  \n",
      "200296          1985-07-11                       Selune               Miner  \n",
      "200297          1992-09-19                    Lathander               thief  \n",
      "200298          1992-03-05                     Loviatar          Apothecary  \n",
      "200299          1995-06-13                        Malar    Academic Scholar  \n",
      "\n",
      "[200300 rows x 11 columns]>\n"
     ]
    }
   ],
   "source": [
    "# concat and save the two\n",
    "\n",
    "adventurers_t2 = pd.concat([adventurers, adventurers_t2], axis=0).reset_index(drop=True)\n",
    "\n",
    "print(adventurers_t2.head)\n",
    "\n",
    "\n",
    "adventurers_t2.to_csv(arcane_evaluation_t2_output_filepath, index=False)"
   ]
  }
 ],
 "metadata": {
  "kernelspec": {
   "display_name": "Python 3",
   "language": "python",
   "name": "python3"
  },
  "language_info": {
   "codemirror_mode": {
    "name": "ipython",
    "version": 3
   },
   "file_extension": ".py",
   "mimetype": "text/x-python",
   "name": "python",
   "nbconvert_exporter": "python",
   "pygments_lexer": "ipython3",
   "version": "3.9.16"
  }
 },
 "nbformat": 4,
 "nbformat_minor": 0
}
