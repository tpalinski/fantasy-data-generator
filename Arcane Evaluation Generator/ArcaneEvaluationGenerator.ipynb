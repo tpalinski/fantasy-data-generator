{
 "cells": [
  {
   "cell_type": "code",
   "execution_count": 37,
   "outputs": [],
   "source": [
    "### import ###\n",
    "import pandas as pd\n",
    "import numpy as np\n",
    "import random\n",
    "import datetime"
   ],
   "metadata": {
    "collapsed": false
   }
  },
  {
   "cell_type": "code",
   "execution_count": 38,
   "outputs": [],
   "source": [
    "### constants ###\n",
    "seed = 111\n",
    "random.seed(seed)\n",
    "\n",
    "latest_date_of_employment = datetime.datetime(2000, 1, 1)\n",
    "\n",
    "earliest_date_of_employment = datetime.datetime(1985, 1, 1)\n",
    "\n",
    "time_difference = (latest_date_of_employment - earliest_date_of_employment).days\n",
    "\n",
    "min_age_at_employment = 10 * 365 # 10 years in days\n",
    "\n",
    "max_age_at_employment = 30 * 365 # 30 years in days\n",
    "\n",
    "\n",
    "adventurers_filepath = '../data/adventurers.csv'\n",
    "\n",
    "arcane_evaluation_output_filepath = '../data/arcane_evaluation.csv'\n",
    "\n",
    "classes = ['barbarian', 'bard', 'cleric', 'druid', 'fighter', 'monk', 'paladin',\n",
    "           'ranger', 'rogue', 'sorcerer', 'warlock', 'wizard']\n",
    "\n",
    "religions = ['None', 'Auril', 'Azuth', 'Bane', 'Beshaba', 'Bhaal', 'Chauntea', 'Cyric', 'Deneir',\n",
    "             'Eldath', 'Garagos', 'Gond', 'Helm', 'Ilmater', 'Kelemvor', 'Lathander', 'Leira',\n",
    "             'Lliira', 'Loviatar', 'Malar', 'Mask', 'Mielikki', 'Myrkul', 'Mystra', 'Oghma',\n",
    "             'Savras', 'Selune', 'Shar', 'Silvanus', 'Sune', 'Talona', 'Talos', 'Tempus',\n",
    "             'Torm', 'Tymora', 'Tyr', 'Umberlee', 'Waukeen']\n",
    "\n",
    "previous_employments = ['None', 'Blacksmith', 'Farmer', 'Musician', 'Merchant', 'Soldier', 'Herbalist',\n",
    "                        'Alchemist', 'Miner', 'Hunter', 'Artisan', 'Tavern Keeper', 'Fisherman',\n",
    "                        'priest', 'thief', 'Academic Scholar', 'Apothecary', 'Ship Capitan', 'Lumberjack',\n",
    "                        'Animal Trainer', 'Guard', 'Mercenary', 'Cook', 'Librarian']\n",
    "\n",
    "races = ['Dragonborn', 'Dwarf', 'Elf', 'Gnome', 'Half-elf', 'Halfling', 'Half-Orc', 'Human', 'Tiefling']"
   ],
   "metadata": {
    "collapsed": false
   }
  },
  {
   "cell_type": "code",
   "execution_count": 39,
   "outputs": [],
   "source": [
    "### functions ###\n",
    "\n",
    "def get_random_employment_date():\n",
    "    random_amount_of_days = random.randint(0, time_difference)\n",
    "    return earliest_date_of_employment + datetime.timedelta(days=random_amount_of_days)\n",
    "\n",
    "def get_random_date_of_birth(employment_date):\n",
    "    random_amount_of_days = random.randint(min_age_at_employment, max_age_at_employment)\n",
    "    return employment_date - datetime.timedelta(days=random_amount_of_days)"
   ],
   "metadata": {
    "collapsed": false
   }
  },
  {
   "cell_type": "code",
   "execution_count": 40,
   "outputs": [],
   "source": [
    "adventurers = pd.read_csv(adventurers_filepath)\n",
    "\n",
    "adventurers.insert(loc=3,\n",
    "                   column='race',\n",
    "                   value=[random.choice(races) for _ in range (adventurers.shape[0])])\n",
    "\n",
    "\n",
    "adventurers.insert(loc=5,\n",
    "                   column='class',\n",
    "                   value=[random.choice(classes) for _ in range (adventurers.shape[0])])\n",
    "\n",
    "adventurers.insert(loc=6,\n",
    "                   column='start_of_employment',\n",
    "                   value=[get_random_employment_date() for _ in range (adventurers.shape[0])])\n",
    "\n",
    "adventurers.insert(loc=7,\n",
    "                   column='end_of_employment',\n",
    "                   value=['' for _ in range (adventurers.shape[0])])\n",
    "\n",
    "adventurers.insert(loc=8,\n",
    "                   column='religion',\n",
    "                   value=[random.choice(religions) for _ in range (adventurers.shape[0])])\n",
    "\n",
    "adventurers.insert(loc=9,\n",
    "                   column='previous_employment',\n",
    "                   value=[random.choice(previous_employments) for _ in range (adventurers.shape[0])])\n",
    "\n",
    "adventurers.insert(loc=4,\n",
    "                   column='date_of_birth',\n",
    "                   value=[get_random_date_of_birth(adventurers.at[i, 'start_of_employment'])\n",
    "                          for i in range (adventurers.shape[0])])\n",
    "\n",
    "adventurers.to_csv(arcane_evaluation_output_filepath, index=False)"
   ],
   "metadata": {
    "collapsed": false
   }
  }
 ],
 "metadata": {
  "kernelspec": {
   "display_name": "Python 3",
   "language": "python",
   "name": "python3"
  },
  "language_info": {
   "codemirror_mode": {
    "name": "ipython",
    "version": 2
   },
   "file_extension": ".py",
   "mimetype": "text/x-python",
   "name": "python",
   "nbconvert_exporter": "python",
   "pygments_lexer": "ipython2",
   "version": "2.7.6"
  }
 },
 "nbformat": 4,
 "nbformat_minor": 0
}
